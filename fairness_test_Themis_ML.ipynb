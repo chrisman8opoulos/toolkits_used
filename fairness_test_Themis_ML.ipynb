{
 "cells": [
  {
   "cell_type": "code",
   "execution_count": 2,
   "id": "64a5b8c0",
   "metadata": {},
   "outputs": [
    {
     "data": {
      "text/html": [
       "<div>\n",
       "<style scoped>\n",
       "    .dataframe tbody tr th:only-of-type {\n",
       "        vertical-align: middle;\n",
       "    }\n",
       "\n",
       "    .dataframe tbody tr th {\n",
       "        vertical-align: top;\n",
       "    }\n",
       "\n",
       "    .dataframe thead th {\n",
       "        text-align: right;\n",
       "    }\n",
       "</style>\n",
       "<table border=\"1\" class=\"dataframe\">\n",
       "  <thead>\n",
       "    <tr style=\"text-align: right;\">\n",
       "      <th></th>\n",
       "      <th>age</th>\n",
       "      <th>class_of_worker</th>\n",
       "      <th>detailed_industry_recode</th>\n",
       "      <th>detailed_occupation_recode</th>\n",
       "      <th>education</th>\n",
       "      <th>wage_per_hour</th>\n",
       "      <th>enroll_in_edu_inst_last_wk</th>\n",
       "      <th>marital_stat</th>\n",
       "      <th>major_industry_code</th>\n",
       "      <th>major_occupation_code</th>\n",
       "      <th>...</th>\n",
       "      <th>country_of_birth_mother</th>\n",
       "      <th>country_of_birth_self</th>\n",
       "      <th>citizenship</th>\n",
       "      <th>own_business_or_self_employed</th>\n",
       "      <th>fill_inc_questionnaire_for_veteran's_admin</th>\n",
       "      <th>veterans_benefits</th>\n",
       "      <th>weeks_worked_in_year</th>\n",
       "      <th>year</th>\n",
       "      <th>income_gt_50k</th>\n",
       "      <th>dataset_partition</th>\n",
       "    </tr>\n",
       "  </thead>\n",
       "  <tbody>\n",
       "    <tr>\n",
       "      <th>0</th>\n",
       "      <td>73</td>\n",
       "      <td>not_in_universe</td>\n",
       "      <td>0</td>\n",
       "      <td>0</td>\n",
       "      <td>9</td>\n",
       "      <td>0</td>\n",
       "      <td>not_in_universe</td>\n",
       "      <td>widowed</td>\n",
       "      <td>not_in_universe_or_children</td>\n",
       "      <td>not_in_universe</td>\n",
       "      <td>...</td>\n",
       "      <td>united-states</td>\n",
       "      <td>united-states</td>\n",
       "      <td>native-_born_in_the_united_states</td>\n",
       "      <td>not_in_universe</td>\n",
       "      <td>not_in_universe</td>\n",
       "      <td>no</td>\n",
       "      <td>0</td>\n",
       "      <td>2</td>\n",
       "      <td>0</td>\n",
       "      <td>training_set</td>\n",
       "    </tr>\n",
       "    <tr>\n",
       "      <th>1</th>\n",
       "      <td>58</td>\n",
       "      <td>self-employed-not_incorporated</td>\n",
       "      <td>4</td>\n",
       "      <td>34</td>\n",
       "      <td>10</td>\n",
       "      <td>0</td>\n",
       "      <td>not_in_universe</td>\n",
       "      <td>divorced</td>\n",
       "      <td>construction</td>\n",
       "      <td>precision_production_craft_&amp;_repair</td>\n",
       "      <td>...</td>\n",
       "      <td>united-states</td>\n",
       "      <td>united-states</td>\n",
       "      <td>native-_born_in_the_united_states</td>\n",
       "      <td>not_in_universe</td>\n",
       "      <td>not_in_universe</td>\n",
       "      <td>no</td>\n",
       "      <td>52</td>\n",
       "      <td>1</td>\n",
       "      <td>0</td>\n",
       "      <td>training_set</td>\n",
       "    </tr>\n",
       "    <tr>\n",
       "      <th>2</th>\n",
       "      <td>18</td>\n",
       "      <td>not_in_universe</td>\n",
       "      <td>0</td>\n",
       "      <td>0</td>\n",
       "      <td>6</td>\n",
       "      <td>0</td>\n",
       "      <td>high_school</td>\n",
       "      <td>never_married</td>\n",
       "      <td>not_in_universe_or_children</td>\n",
       "      <td>not_in_universe</td>\n",
       "      <td>...</td>\n",
       "      <td>vietnam</td>\n",
       "      <td>vietnam</td>\n",
       "      <td>foreign_born-_not_a_citizen_of_u_s</td>\n",
       "      <td>not_in_universe</td>\n",
       "      <td>not_in_universe</td>\n",
       "      <td>no</td>\n",
       "      <td>0</td>\n",
       "      <td>2</td>\n",
       "      <td>0</td>\n",
       "      <td>training_set</td>\n",
       "    </tr>\n",
       "    <tr>\n",
       "      <th>3</th>\n",
       "      <td>9</td>\n",
       "      <td>not_in_universe</td>\n",
       "      <td>0</td>\n",
       "      <td>0</td>\n",
       "      <td>0</td>\n",
       "      <td>0</td>\n",
       "      <td>not_in_universe</td>\n",
       "      <td>never_married</td>\n",
       "      <td>not_in_universe_or_children</td>\n",
       "      <td>not_in_universe</td>\n",
       "      <td>...</td>\n",
       "      <td>united-states</td>\n",
       "      <td>united-states</td>\n",
       "      <td>native-_born_in_the_united_states</td>\n",
       "      <td>not_in_universe</td>\n",
       "      <td>not_in_universe</td>\n",
       "      <td>not_in_universe</td>\n",
       "      <td>0</td>\n",
       "      <td>1</td>\n",
       "      <td>0</td>\n",
       "      <td>training_set</td>\n",
       "    </tr>\n",
       "    <tr>\n",
       "      <th>4</th>\n",
       "      <td>10</td>\n",
       "      <td>not_in_universe</td>\n",
       "      <td>0</td>\n",
       "      <td>0</td>\n",
       "      <td>0</td>\n",
       "      <td>0</td>\n",
       "      <td>not_in_universe</td>\n",
       "      <td>never_married</td>\n",
       "      <td>not_in_universe_or_children</td>\n",
       "      <td>not_in_universe</td>\n",
       "      <td>...</td>\n",
       "      <td>united-states</td>\n",
       "      <td>united-states</td>\n",
       "      <td>native-_born_in_the_united_states</td>\n",
       "      <td>not_in_universe</td>\n",
       "      <td>not_in_universe</td>\n",
       "      <td>not_in_universe</td>\n",
       "      <td>0</td>\n",
       "      <td>1</td>\n",
       "      <td>0</td>\n",
       "      <td>training_set</td>\n",
       "    </tr>\n",
       "  </tbody>\n",
       "</table>\n",
       "<p>5 rows × 43 columns</p>\n",
       "</div>"
      ],
      "text/plain": [
       "   age                 class_of_worker  detailed_industry_recode  \\\n",
       "0   73                 not_in_universe                         0   \n",
       "1   58  self-employed-not_incorporated                         4   \n",
       "2   18                 not_in_universe                         0   \n",
       "3    9                 not_in_universe                         0   \n",
       "4   10                 not_in_universe                         0   \n",
       "\n",
       "   detailed_occupation_recode  education  wage_per_hour  \\\n",
       "0                           0          9              0   \n",
       "1                          34         10              0   \n",
       "2                           0          6              0   \n",
       "3                           0          0              0   \n",
       "4                           0          0              0   \n",
       "\n",
       "  enroll_in_edu_inst_last_wk   marital_stat          major_industry_code  \\\n",
       "0            not_in_universe        widowed  not_in_universe_or_children   \n",
       "1            not_in_universe       divorced                 construction   \n",
       "2                high_school  never_married  not_in_universe_or_children   \n",
       "3            not_in_universe  never_married  not_in_universe_or_children   \n",
       "4            not_in_universe  never_married  not_in_universe_or_children   \n",
       "\n",
       "                 major_occupation_code  ... country_of_birth_mother  \\\n",
       "0                      not_in_universe  ...           united-states   \n",
       "1  precision_production_craft_&_repair  ...           united-states   \n",
       "2                      not_in_universe  ...                 vietnam   \n",
       "3                      not_in_universe  ...           united-states   \n",
       "4                      not_in_universe  ...           united-states   \n",
       "\n",
       "  country_of_birth_self                         citizenship  \\\n",
       "0         united-states   native-_born_in_the_united_states   \n",
       "1         united-states   native-_born_in_the_united_states   \n",
       "2               vietnam  foreign_born-_not_a_citizen_of_u_s   \n",
       "3         united-states   native-_born_in_the_united_states   \n",
       "4         united-states   native-_born_in_the_united_states   \n",
       "\n",
       "  own_business_or_self_employed fill_inc_questionnaire_for_veteran's_admin  \\\n",
       "0               not_in_universe                            not_in_universe   \n",
       "1               not_in_universe                            not_in_universe   \n",
       "2               not_in_universe                            not_in_universe   \n",
       "3               not_in_universe                            not_in_universe   \n",
       "4               not_in_universe                            not_in_universe   \n",
       "\n",
       "  veterans_benefits  weeks_worked_in_year  year  income_gt_50k  \\\n",
       "0                no                     0     2              0   \n",
       "1                no                    52     1              0   \n",
       "2                no                     0     2              0   \n",
       "3   not_in_universe                     0     1              0   \n",
       "4   not_in_universe                     0     1              0   \n",
       "\n",
       "  dataset_partition  \n",
       "0      training_set  \n",
       "1      training_set  \n",
       "2      training_set  \n",
       "3      training_set  \n",
       "4      training_set  \n",
       "\n",
       "[5 rows x 43 columns]"
      ]
     },
     "execution_count": 2,
     "metadata": {},
     "output_type": "execute_result"
    }
   ],
   "source": [
    "from themis_ml.datasets import census_income\n",
    "\n",
    "raw_data = census_income(raw=True)\n",
    "raw_data.head()"
   ]
  },
  {
   "cell_type": "code",
   "execution_count": 11,
   "id": "a8418f41",
   "metadata": {},
   "outputs": [
    {
     "data": {
      "text/plain": [
       "0    280717\n",
       "1     18568\n",
       "Name: income_gt_50k, dtype: int64"
      ]
     },
     "execution_count": 11,
     "metadata": {},
     "output_type": "execute_result"
    }
   ],
   "source": [
    "from themis_ml.metrics import mean_difference\n",
    "from themis_ml.metrics import normalized_mean_difference\n",
    "\n",
    "# target variable\n",
    "# values: 1 = low credit risk, 0 = high credit risk\n",
    "income_gt_50k = raw_data[\"income_gt_50k\"]\n",
    "\n",
    "# display frequency counts of each value\n",
    "income_gt_50k.value_counts()"
   ]
  },
  {
   "cell_type": "code",
   "execution_count": 5,
   "id": "11557a5e",
   "metadata": {},
   "outputs": [],
   "source": [
    "sex = raw_data[\"sex\"]"
   ]
  },
  {
   "cell_type": "code",
   "execution_count": 6,
   "id": "3777e7b9",
   "metadata": {},
   "outputs": [
    {
     "data": {
      "text/plain": [
       "female    155775\n",
       "male      143510\n",
       "Name: sex, dtype: int64"
      ]
     },
     "execution_count": 6,
     "metadata": {},
     "output_type": "execute_result"
    }
   ],
   "source": [
    "sex.value_counts()"
   ]
  },
  {
   "cell_type": "code",
   "execution_count": 7,
   "id": "4bf3442e",
   "metadata": {},
   "outputs": [
    {
     "name": "stdout",
     "output_type": "stream",
     "text": [
      "0        1\n",
      "1        0\n",
      "2        1\n",
      "3        1\n",
      "4        1\n",
      "        ..\n",
      "99757    1\n",
      "99758    0\n",
      "99759    0\n",
      "99760    1\n",
      "99761    0\n",
      "Name: sex, Length: 299285, dtype: object\n"
     ]
    },
    {
     "name": "stderr",
     "output_type": "stream",
     "text": [
      "C:\\Users\\chris\\AppData\\Local\\Temp/ipykernel_12076/1454180746.py:3: SettingWithCopyWarning: \n",
      "A value is trying to be set on a copy of a slice from a DataFrame\n",
      "\n",
      "See the caveats in the documentation: https://pandas.pydata.org/pandas-docs/stable/user_guide/indexing.html#returning-a-view-versus-a-copy\n",
      "  sex[sex != 0] = 1     # for replacing others to 1\n"
     ]
    }
   ],
   "source": [
    "\n",
    "sex.replace('male', 0, inplace=True)  # for replacing male to 0\n",
    "\n",
    "sex[sex != 0] = 1     # for replacing others to 1\n",
    "print(sex)"
   ]
  },
  {
   "cell_type": "code",
   "execution_count": 8,
   "id": "1b25e20d",
   "metadata": {},
   "outputs": [
    {
     "data": {
      "text/plain": [
       "1    155775\n",
       "0    143510\n",
       "Name: sex, dtype: int64"
      ]
     },
     "execution_count": 8,
     "metadata": {},
     "output_type": "execute_result"
    }
   ],
   "source": [
    "sex.value_counts()"
   ]
  },
  {
   "cell_type": "code",
   "execution_count": 9,
   "id": "82b53b3f",
   "metadata": {},
   "outputs": [
    {
     "name": "stdout",
     "output_type": "stream",
     "text": [
      "Mean difference scores:\n",
      "protected class = sex: 0.076, 95% CI [0.075-0.078]\n"
     ]
    }
   ],
   "source": [
    "print(\"Mean difference scores:\")\n",
    "print(\"protected class = sex: %0.03f, 95%% CI [%0.03f-%0.03f]\" %\n",
    "      mean_difference(income_gt_50k, sex))"
   ]
  },
  {
   "cell_type": "code",
   "execution_count": 18,
   "id": "59fee2bc",
   "metadata": {},
   "outputs": [
    {
     "name": "stdout",
     "output_type": "stream",
     "text": [
      "\n",
      "Normalized mean difference scores:\n",
      "0.5894238415848376\n"
     ]
    }
   ],
   "source": [
    "print(\"\\nNormalized mean difference scores:\")\n",
    "# normalized mean difference\n",
    "print(\n",
    "      normalized_mean_difference(income_gt_50k, sex)[0])"
   ]
  },
  {
   "cell_type": "code",
   "execution_count": 19,
   "id": "a83097cd",
   "metadata": {},
   "outputs": [],
   "source": [
    "citizenship = raw_data[\"citizenship\"]"
   ]
  },
  {
   "cell_type": "code",
   "execution_count": 20,
   "id": "0a3d475e",
   "metadata": {},
   "outputs": [
    {
     "name": "stdout",
     "output_type": "stream",
     "text": [
      "0        0\n",
      "1        0\n",
      "2        1\n",
      "3        0\n",
      "4        0\n",
      "        ..\n",
      "99757    0\n",
      "99758    0\n",
      "99759    1\n",
      "99760    0\n",
      "99761    0\n",
      "Name: citizenship, Length: 299285, dtype: object\n"
     ]
    },
    {
     "name": "stderr",
     "output_type": "stream",
     "text": [
      "C:\\Users\\chris\\AppData\\Local\\Temp/ipykernel_12076/1279900034.py:3: SettingWithCopyWarning: \n",
      "A value is trying to be set on a copy of a slice from a DataFrame\n",
      "\n",
      "See the caveats in the documentation: https://pandas.pydata.org/pandas-docs/stable/user_guide/indexing.html#returning-a-view-versus-a-copy\n",
      "  citizenship[citizenship != 0] = 1     # for replacing others to 1\n"
     ]
    }
   ],
   "source": [
    "citizenship.replace('native-_born_in_the_united_states', 0, inplace=True)  # for replacing male to 0\n",
    "\n",
    "citizenship[citizenship != 0] = 1     # for replacing others to 1\n",
    "print(citizenship)"
   ]
  },
  {
   "cell_type": "code",
   "execution_count": 21,
   "id": "0f5bef77",
   "metadata": {},
   "outputs": [
    {
     "data": {
      "text/plain": [
       "0    265347\n",
       "1     33938\n",
       "Name: citizenship, dtype: int64"
      ]
     },
     "execution_count": 21,
     "metadata": {},
     "output_type": "execute_result"
    }
   ],
   "source": [
    "citizenship.value_counts()"
   ]
  },
  {
   "cell_type": "code",
   "execution_count": 24,
   "id": "8da6cead",
   "metadata": {},
   "outputs": [
    {
     "name": "stdout",
     "output_type": "stream",
     "text": [
      "Mean difference scores:\n",
      "protected class = citizenship: 0.008, 95% CI [0.005-0.011]\n"
     ]
    }
   ],
   "source": [
    "print(\"Mean difference scores:\")\n",
    "print(\"protected class = citizenship: %0.03f, 95%% CI [%0.03f-%0.03f]\" %\n",
    "      mean_difference(income_gt_50k, citizenship))"
   ]
  },
  {
   "cell_type": "code",
   "execution_count": 23,
   "id": "40e12e4a",
   "metadata": {},
   "outputs": [
    {
     "name": "stdout",
     "output_type": "stream",
     "text": [
      "\n",
      "Normalized mean difference scores:\n",
      "0.11709705026646035\n"
     ]
    }
   ],
   "source": [
    "print(\"\\nNormalized mean difference scores:\")\n",
    "# normalized mean difference\n",
    "print(\n",
    "      normalized_mean_difference(income_gt_50k, citizenship)[0])"
   ]
  },
  {
   "cell_type": "code",
   "execution_count": null,
   "id": "9fd3c873",
   "metadata": {},
   "outputs": [],
   "source": []
  },
  {
   "cell_type": "code",
   "execution_count": null,
   "id": "1eb048c6",
   "metadata": {},
   "outputs": [],
   "source": []
  }
 ],
 "metadata": {
  "kernelspec": {
   "display_name": "Python 3 (ipykernel)",
   "language": "python",
   "name": "python3"
  },
  "language_info": {
   "codemirror_mode": {
    "name": "ipython",
    "version": 3
   },
   "file_extension": ".py",
   "mimetype": "text/x-python",
   "name": "python",
   "nbconvert_exporter": "python",
   "pygments_lexer": "ipython3",
   "version": "3.10.1"
  }
 },
 "nbformat": 4,
 "nbformat_minor": 5
}
